{
 "cells": [
  {
   "cell_type": "code",
   "execution_count": 6,
   "metadata": {},
   "outputs": [],
   "source": [
    "from training_utils import create_siamese_data\n",
    "from ffcv.writer import DatasetWriter\n",
    "import numpy as np\n",
    "import torch\n",
    "from torch.utils.data import TensorDataset"
   ]
  },
  {
   "cell_type": "code",
   "execution_count": 8,
   "metadata": {},
   "outputs": [],
   "source": [
    "# Your dataset (`torch.utils.data.Dataset`) of (image, label) pairs\n",
    "my_dataset = np.ones((100, 128))\n",
    "dataset = TensorDataset(torch.from_numpy(my_dataset))\n",
    "dataloader = torch.utils.data.DataLoader(dataset, batch_size=10)\n",
    "for i, (b) in enumerate(dataloader):\n",
    "    print(i, b[0].shape)\n",
    "    break"
   ]
  },
  {
   "cell_type": "code",
   "execution_count": 43,
   "metadata": {},
   "outputs": [
    {
     "name": "stdout",
     "output_type": "stream",
     "text": [
      "0 torch.Size([10, 60]) torch.Size([10, 60]) torch.Size([10, 1])\n"
     ]
    }
   ],
   "source": [
    "from ffcv.writer import DatasetWriter\n",
    "from ffcv.fields import RGBImageField, IntField, FloatField, TorchTensorField\n",
    "\n",
    "# Your dataset (`torch.utils.data.Dataset`) of (image, label) pairs\n",
    "mr0 = np.ones((100, 60))\n",
    "mr1 = np.ones((100, 60))\n",
    "t = np.ones((100, 1), dtype=int)\n",
    "\n",
    "dataset_better = TensorDataset(torch.from_numpy(mr0), torch.from_numpy(mr1), torch.from_numpy(t))\n",
    "dataloader_better = torch.utils.data.DataLoader(dataset_better, batch_size=10)\n",
    "for i, (m0, m1, t_) in enumerate(dataloader_better):\n",
    "    print(i, m0.shape, m1.shape, t_.shape)\n",
    "    break"
   ]
  },
  {
   "cell_type": "code",
   "execution_count": 44,
   "metadata": {},
   "outputs": [
    {
     "data": {
      "text/plain": [
       "(100,\n",
       " (tensor([1., 1., 1., 1., 1., 1., 1., 1., 1., 1., 1., 1., 1., 1., 1., 1., 1., 1.,\n",
       "          1., 1., 1., 1., 1., 1., 1., 1., 1., 1., 1., 1., 1., 1., 1., 1., 1., 1.,\n",
       "          1., 1., 1., 1., 1., 1., 1., 1., 1., 1., 1., 1., 1., 1., 1., 1., 1., 1.,\n",
       "          1., 1., 1., 1., 1., 1.], dtype=torch.float64),\n",
       "  tensor([1., 1., 1., 1., 1., 1., 1., 1., 1., 1., 1., 1., 1., 1., 1., 1., 1., 1.,\n",
       "          1., 1., 1., 1., 1., 1., 1., 1., 1., 1., 1., 1., 1., 1., 1., 1., 1., 1.,\n",
       "          1., 1., 1., 1., 1., 1., 1., 1., 1., 1., 1., 1., 1., 1., 1., 1., 1., 1.,\n",
       "          1., 1., 1., 1., 1., 1.], dtype=torch.float64),\n",
       "  tensor([1])))"
      ]
     },
     "execution_count": 44,
     "metadata": {},
     "output_type": "execute_result"
    }
   ],
   "source": [
    "len(dataset_better), dataset_better[0]"
   ]
  },
  {
   "cell_type": "code",
   "execution_count": 45,
   "metadata": {},
   "outputs": [
    {
     "name": "stderr",
     "output_type": "stream",
     "text": [
      "100%|██████████| 100/100 [00:00<00:00, 996.40it/s]\n"
     ]
    }
   ],
   "source": [
    "write_path = \"test.beton\"\n",
    "# Pass a type for each data field\n",
    "writer = DatasetWriter(write_path, {\n",
    "    # Tune options to optimize dataset size, throughput at train-time\n",
    "    'mr0': TorchTensorField(\n",
    "        dtype=torch.float64,\n",
    "        shape=(60, 1),\n",
    "    ),\n",
    "    'mr1': TorchTensorField(\n",
    "        dtype=torch.float64,\n",
    "        shape=(60, 1),\n",
    "    ),\n",
    "    'target': IntField()\n",
    "})\n",
    "\n",
    "# Write dataset\n",
    "writer.from_indexed_dataset(dataset_better)"
   ]
  },
  {
   "cell_type": "code",
   "execution_count": 47,
   "metadata": {},
   "outputs": [],
   "source": [
    "from ffcv.loader import Loader, OrderOption\n",
    "from ffcv.transforms import ToTensor, ToDevice\n",
    "from ffcv.fields.decoders import IntDecoder, NDArrayDecoder\n",
    "\n",
    "# Data decoding and augmentation\n",
    "mr_pipeline = [ NDArrayDecoder(), ToTensor()]\n",
    "target_pipeline = [IntDecoder(), ToTensor()]\n",
    "\n",
    "# Pipeline for each data field\n",
    "pipelines = {\n",
    "    'mr0': mr_pipeline,\n",
    "    'mr1': mr_pipeline,\n",
    "    'target': target_pipeline\n",
    "}\n",
    "\n",
    "# Replaces PyTorch data loader (`torch.utils.data.Dataloader`)\n",
    "loader = Loader(write_path, batch_size=8, num_workers=1,\n",
    "                order=OrderOption.RANDOM, pipelines=pipelines)\n"
   ]
  },
  {
   "cell_type": "code",
   "execution_count": 52,
   "metadata": {},
   "outputs": [
    {
     "name": "stdout",
     "output_type": "stream",
     "text": [
      "torch.Size([8, 60, 1]) torch.Size([8, 60, 1]) torch.Size([8, 1])\n"
     ]
    }
   ],
   "source": [
    "for i, (mr0, mr1, t) in enumerate(loader):\n",
    "    print(mr0.shape, mr1.shape, t.shape)\n",
    "    break"
   ]
  },
  {
   "cell_type": "code",
   "execution_count": null,
   "metadata": {},
   "outputs": [],
   "source": [
    "\n",
    "write_path = 'test.beton'\n",
    "\n",
    "# Pass a type for each data field\n",
    "writer = DatasetWriter(write_path, {\n",
    "    # Tune options to optimize dataset size, throughput at train-time\n",
    "    'image': RGBImageField(\n",
    "        max_resolution=256\n",
    "    ),\n",
    "    'label': IntField()\n",
    "})\n",
    "\n",
    "# Write dataset\n",
    "writer.from_indexed_dataset(my_dataset)"
   ]
  },
  {
   "cell_type": "code",
   "execution_count": null,
   "metadata": {},
   "outputs": [],
   "source": [
    "sh_path = \"/scratch_local/owl156-462029/NeglectedFreeLunch/data/resnet50_losses_0.npy\",\n",
    "margin=1\n",
    "arr = create_siamese_data(sh_path, margin)\n",
    "np.save(args.destiny_path, arr)"
   ]
  }
 ],
 "metadata": {
  "kernelspec": {
   "display_name": "ffcv",
   "language": "python",
   "name": "python3"
  },
  "language_info": {
   "codemirror_mode": {
    "name": "ipython",
    "version": 3
   },
   "file_extension": ".py",
   "mimetype": "text/x-python",
   "name": "python",
   "nbconvert_exporter": "python",
   "pygments_lexer": "ipython3",
   "version": "3.9.18"
  }
 },
 "nbformat": 4,
 "nbformat_minor": 2
}
