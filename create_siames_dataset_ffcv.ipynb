{
 "cells": [
  {
   "cell_type": "code",
   "execution_count": null,
   "metadata": {},
   "outputs": [],
   "source": [
    "from training_utils import create_siamese_data\n",
    "from ffcv.writer import DatasetWriter\n",
    "import numpy as np"
   ]
  },
  {
   "cell_type": "code",
   "execution_count": null,
   "metadata": {},
   "outputs": [],
   "source": [
    "sh_path = \"/scratch_local/owl156-462029/NeglectedFreeLunch/data/resnet50_losses_0.npy\",\n",
    "margin=1\n",
    "arr = create_siamese_data(sh_path, margin)\n",
    "np.save(args.destiny_path, arr)"
   ]
  }
 ],
 "metadata": {
  "kernelspec": {
   "display_name": "ffcv",
   "language": "python",
   "name": "python3"
  },
  "language_info": {
   "name": "python",
   "version": "3.9.-1"
  }
 },
 "nbformat": 4,
 "nbformat_minor": 2
}
