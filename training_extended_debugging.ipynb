{
 "cells": [
  {
   "cell_type": "code",
   "execution_count": 3,
   "metadata": {},
   "outputs": [
    {
     "name": "stderr",
     "output_type": "stream",
     "text": [
      "/scratch_local/owl156-448013/torch/lib/python3.9/site-packages/tqdm/auto.py:21: TqdmWarning: IProgress not found. Please update jupyter and ipywidgets. See https://ipywidgets.readthedocs.io/en/stable/user_install.html\n",
      "  from .autonotebook import tqdm as notebook_tqdm\n"
     ]
    }
   ],
   "source": [
    "import torch\n",
    "from ResNet import resnet18, resnet50\n",
    "\n",
    "from imagenet_dataloader import ImageNetwithLUAB_dataloader\n",
    "from imagenet_extended_dataloader import ImageNetwithLUAB_extended_dataloader\n"
   ]
  },
  {
   "cell_type": "code",
   "execution_count": 5,
   "metadata": {},
   "outputs": [
    {
     "data": {
      "text/plain": [
       "<torch.utils.data.dataloader.DataLoader at 0x7f2f8c683910>"
      ]
     },
     "execution_count": 5,
     "metadata": {},
     "output_type": "execute_result"
    }
   ],
   "source": [
    " = \"/mnt/lustre/datasets/ImageNet2012/train\"\n",
    "xml_path = \"/scratch_local/owl156-448013/train_xml\"\n",
    "nr_epochs = 300\n",
    "batch_size = 64\n",
    "input_size = 224\n",
    "num_workers = 8\n",
    "num_class = 1000\n",
    "\n",
    "loader = ImageNetwithLUAB_extended_dataloader(\n",
    "    root_train=root_train,\n",
    "    xml_path=xml_path,\n",
    "    num_classes=num_class,\n",
    "    input_size=input_size,\n",
    "    batch_size=batch_size,\n",
    "    num_workers=num_workers,\n",
    "    loss_weight=1,\n",
    ").run()"
   ]
  },
  {
   "cell_type": "code",
   "execution_count": 6,
   "metadata": {},
   "outputs": [],
   "source": [
    "a = iter(loader)"
   ]
  },
  {
   "cell_type": "code",
   "execution_count": 8,
   "metadata": {},
   "outputs": [],
   "source": [
    "image, (target, weight, fg_point, loc_info, mouse_record) = next(a)"
   ]
  },
  {
   "cell_type": "code",
   "execution_count": 22,
   "metadata": {},
   "outputs": [
    {
     "data": {
      "text/plain": [
       "(tensor(1., dtype=torch.float64),\n",
       " tensor([[ 0,  0],\n",
       "         [ 0,  0],\n",
       "         [ 0,  0],\n",
       "         [-1, -1],\n",
       "         [-1, -1],\n",
       "         [-1, -1],\n",
       "         [-1, -1],\n",
       "         [-1, -1],\n",
       "         [-1, -1],\n",
       "         [-1, -1],\n",
       "         [-1, -1],\n",
       "         [-1, -1],\n",
       "         [-1, -1],\n",
       "         [-1, -1],\n",
       "         [-1, -1],\n",
       "         [-1, -1],\n",
       "         [-1, -1],\n",
       "         [-1, -1],\n",
       "         [-1, -1],\n",
       "         [-1, -1],\n",
       "         [-1, -1],\n",
       "         [-1, -1],\n",
       "         [-1, -1],\n",
       "         [-1, -1],\n",
       "         [-1, -1],\n",
       "         [-1, -1],\n",
       "         [-1, -1],\n",
       "         [-1, -1],\n",
       "         [-1, -1],\n",
       "         [-1, -1]]))"
      ]
     },
     "execution_count": 22,
     "metadata": {},
     "output_type": "execute_result"
    }
   ],
   "source": [
    "i = -1\n",
    "mouse_record[i]"
   ]
  },
  {
   "cell_type": "code",
   "execution_count": null,
   "metadata": {},
   "outputs": [],
   "source": [
    "\n",
    "(inputs, ab_information) = next(iter(loader))\n",
    "print('Dataloader sanity check, this should be (batch_size, (2))', ab_information[-1].shape)\n",
    "model = resnet50().cuda()\n",
    "optimizer = torch.optim.SGD(model.parameters(), lr=args.lr)\n",
    "if args.compile:\n",
    "    model = torch.compile(model, mode=\"reduce-overhead\")\n",
    "\n",
    "L_image = torch.nn.CrossEntropyLoss()\n",
    "L_ab = torch.nn.SmoothL1Loss()\n",
    "print('---Training---')\n",
    "for epoch in range(nr_epochs):\n",
    "    total_loss = 0\n",
    "    for batch_idx, (inputs, target) in enumerate(loader):\n",
    "        targets, weight, fg_point, loc_info = ab_information\n",
    "        inputs, targets = inputs.cuda(), targets.cuda()\n",
    "        optimizer.zero_grad()\n",
    "        visual_outputs, ab_outputs = model(inputs)\n",
    "        loss = L_image(visual_outputs, targets)\n",
    "        if loc_info is not None:\n",
    "            loc_info = loc_info.cuda()\n",
    "            loss += args.lambda_ * L_ab(ab_outputs, loc_info)\n",
    "\n",
    "        loss.backward()\n",
    "        optimizer.step()\n",
    "        total_loss+=loss\n",
    "    print(f\"[Training] - E{epoch} - Loss {total_loss}\")\n"
   ]
  }
 ],
 "metadata": {
  "kernelspec": {
   "display_name": "Python 3",
   "language": "python",
   "name": "python3"
  },
  "language_info": {
   "codemirror_mode": {
    "name": "ipython",
    "version": 3
   },
   "file_extension": ".py",
   "mimetype": "text/x-python",
   "name": "python",
   "nbconvert_exporter": "python",
   "pygments_lexer": "ipython3",
   "version": "3.9.-1"
  }
 },
 "nbformat": 4,
 "nbformat_minor": 2
}
