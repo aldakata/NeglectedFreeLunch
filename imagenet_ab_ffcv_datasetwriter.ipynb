{
 "cells": [
  {
   "cell_type": "code",
   "execution_count": null,
   "metadata": {},
   "outputs": [],
   "source": [
    "from ffcv.writer import DatasetWriter\n",
    "from ffcv.fields import IntField, RGBImageField, JSONField\n"
   ]
  }
 ],
 "metadata": {
  "interpreter": {
   "hash": "ee7e476fdde08dbff10a797a6f6abec6e414fb3fcd15bf435e3abd0b1932a9a9"
  },
  "kernelspec": {
   "display_name": "Python 3.9.18 ('ffcv')",
   "language": "python",
   "name": "python3"
  },
  "language_info": {
   "name": "python",
   "version": "3.9.18"
  },
  "orig_nbformat": 4
 },
 "nbformat": 4,
 "nbformat_minor": 2
}
