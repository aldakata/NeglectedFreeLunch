{
 "cells": [
  {
   "cell_type": "code",
   "execution_count": 1,
   "metadata": {},
   "outputs": [],
   "source": [
    "import torch\n",
    "from siamese_dataloader import Siamese_dataset_folder, Siamese_dataloader\n",
    "from tqdm import tqdm\n",
    "import numpy as np\n",
    "\n",
    "xml_path = \"../train_xml/\"\n",
    "dataset = Siamese_dataset_folder(\n",
    "    root=xml_path,\n",
    ")\n"
   ]
  },
  {
   "cell_type": "code",
   "execution_count": 5,
   "metadata": {},
   "outputs": [],
   "source": [
    "def collate_fn(batch):\n",
    "    batch_size = len(batch)\n",
    "    selected_record = torch.zeros((batch_size,1,2))\n",
    "    estimateTime =  torch.zeros((batch_size,1))\n",
    "    mouse_record =  torch.zeros((batch_size,30,3))\n",
    "    labels = torch.zeros((batch_size,1))\n",
    "    for i,x in enumerate(batch):\n",
    "        selected_record[i] = torch.from_numpy(x[0])\n",
    "        estimateTime[i] = x[1]\n",
    "        mouse_record[i] = torch.from_numpy(x[2])\n",
    "        labels[i] = x[3]\n",
    "    return (\n",
    "        selected_record,\n",
    "        estimateTime,\n",
    "        mouse_record,\n",
    "        labels,\n",
    "    )"
   ]
  },
  {
   "cell_type": "code",
   "execution_count": 6,
   "metadata": {},
   "outputs": [
    {
     "name": "stderr",
     "output_type": "stream",
     "text": [
      "/scratch_local/owl156-429256/scratch_env/lib/python3.9/site-packages/torch/utils/data/dataloader.py:558: UserWarning: This DataLoader will create 32 worker processes in total. Our suggested max number of worker in current system is 8, which is smaller than what this DataLoader is going to create. Please be aware that excessive worker creation might get DataLoader running slow or even freeze, lower the worker number to avoid potential slowness/freeze if necessary.\n",
      "  warnings.warn(_create_warning_msg(\n",
      "  0%|          | 0/159356 [00:00<?, ?it/s]"
     ]
    }
   ],
   "source": [
    "loader = Siamese_dataloader(\n",
    "    dataset=dataset,\n",
    "    batch_size=8,\n",
    "    num_workers=32,\n",
    "    collate_fn=collate_fn\n",
    ").run()\n",
    "mouse_record_history = []\n",
    "loader = tqdm(loader)"
   ]
  },
  {
   "cell_type": "code",
   "execution_count": 7,
   "metadata": {},
   "outputs": [
    {
     "name": "stderr",
     "output_type": "stream",
     "text": [
      "  0%|          | 0/159356 [00:04<?, ?it/s]\n"
     ]
    }
   ],
   "source": [
    "for i, (batch) in enumerate(loader):\n",
    "    break\n",
    "# print(mr.shape, et.shape, mr)"
   ]
  },
  {
   "cell_type": "code",
   "execution_count": 10,
   "metadata": {},
   "outputs": [],
   "source": [
    "selected_record, estimateTime, mouse_record, labels = batch"
   ]
  },
  {
   "cell_type": "code",
   "execution_count": 19,
   "metadata": {},
   "outputs": [
    {
     "data": {
      "text/plain": [
       "(tensor([[0.6500, 0.6133]]),\n",
       " tensor([570.]),\n",
       " tensor([[ 0.0000e+00,  0.0000e+00,  0.0000e+00],\n",
       "         [ 1.0000e+02,  0.0000e+00,  0.0000e+00],\n",
       "         [ 2.0000e+02,  0.0000e+00,  0.0000e+00],\n",
       "         [ 3.0000e+02,  0.0000e+00,  0.0000e+00],\n",
       "         [ 4.0000e+02,  0.0000e+00,  0.0000e+00],\n",
       "         [ 5.0000e+02,  0.0000e+00,  0.0000e+00],\n",
       "         [ 6.0000e+02, -1.0000e+00, -1.0000e+00],\n",
       "         [ 7.0000e+02, -1.0000e+00, -1.0000e+00],\n",
       "         [ 8.0000e+02, -1.0000e+00, -1.0000e+00],\n",
       "         [ 9.0000e+02, -1.0000e+00, -1.0000e+00],\n",
       "         [ 1.0000e+03, -1.0000e+00, -1.0000e+00],\n",
       "         [ 1.1000e+03, -1.0000e+00, -1.0000e+00],\n",
       "         [ 1.2000e+03, -1.0000e+00, -1.0000e+00],\n",
       "         [ 1.3000e+03, -1.0000e+00, -1.0000e+00],\n",
       "         [ 1.4000e+03, -1.0000e+00, -1.0000e+00],\n",
       "         [ 1.5000e+03, -1.0000e+00, -1.0000e+00],\n",
       "         [ 1.6000e+03, -1.0000e+00, -1.0000e+00],\n",
       "         [ 1.7000e+03, -1.0000e+00, -1.0000e+00],\n",
       "         [ 1.8000e+03, -1.0000e+00, -1.0000e+00],\n",
       "         [ 1.9000e+03, -1.0000e+00, -1.0000e+00],\n",
       "         [ 2.0000e+03, -1.0000e+00, -1.0000e+00],\n",
       "         [ 2.1000e+03, -1.0000e+00, -1.0000e+00],\n",
       "         [ 2.2000e+03, -1.0000e+00, -1.0000e+00],\n",
       "         [ 2.3000e+03, -1.0000e+00, -1.0000e+00],\n",
       "         [ 2.4000e+03, -1.0000e+00, -1.0000e+00],\n",
       "         [ 2.5000e+03, -1.0000e+00, -1.0000e+00],\n",
       "         [ 2.6000e+03, -1.0000e+00, -1.0000e+00],\n",
       "         [ 2.7000e+03, -1.0000e+00, -1.0000e+00],\n",
       "         [ 2.8000e+03, -1.0000e+00, -1.0000e+00],\n",
       "         [ 2.9000e+03, -1.0000e+00, -1.0000e+00]]))"
      ]
     },
     "execution_count": 19,
     "metadata": {},
     "output_type": "execute_result"
    }
   ],
   "source": [
    "selected_record[0], estimateTime[0], mouse_record[0]"
   ]
  },
  {
   "cell_type": "code",
   "execution_count": null,
   "metadata": {},
   "outputs": [],
   "source": [
    "mouse_records = np.load('data/mouse_record_interpolated.npy')"
   ]
  },
  {
   "cell_type": "code",
   "execution_count": null,
   "metadata": {},
   "outputs": [
    {
     "data": {
      "text/plain": [
       "(1, 1, 30, 3)"
      ]
     },
     "execution_count": 5,
     "metadata": {},
     "output_type": "execute_result"
    }
   ],
   "source": [
    "mouse_records.shape"
   ]
  },
  {
   "cell_type": "code",
   "execution_count": 32,
   "metadata": {},
   "outputs": [],
   "source": [
    "p = np.load('data/mouse_record_interpolated.npy')"
   ]
  },
  {
   "cell_type": "code",
   "execution_count": 33,
   "metadata": {},
   "outputs": [
    {
     "data": {
      "text/plain": [
       "(1274843, 30, 3)"
      ]
     },
     "execution_count": 33,
     "metadata": {},
     "output_type": "execute_result"
    }
   ],
   "source": [
    "p.shape"
   ]
  }
 ],
 "metadata": {
  "kernelspec": {
   "display_name": "Python 3",
   "language": "python",
   "name": "python3"
  },
  "language_info": {
   "codemirror_mode": {
    "name": "ipython",
    "version": 3
   },
   "file_extension": ".py",
   "mimetype": "text/x-python",
   "name": "python",
   "nbconvert_exporter": "python",
   "pygments_lexer": "ipython3",
   "version": "3.9.19"
  }
 },
 "nbformat": 4,
 "nbformat_minor": 2
}
