{
 "cells": [
  {
   "cell_type": "code",
   "execution_count": 213,
   "metadata": {},
   "outputs": [],
   "source": [
    "import torch\n",
    "from torch.utils.data import TensorDataset, DataLoader, Subset\n",
    "import numpy as np\n",
    "import matplotlib.pyplot as plt\n",
    "from siamese_network import SiameseNetworkConv\n",
    "from torch import nn\n",
    "from training_utils import train_one_epoch, validate"
   ]
  },
  {
   "cell_type": "code",
   "execution_count": 227,
   "metadata": {},
   "outputs": [
    {
     "data": {
      "text/plain": [
       "(800, 50, 150)"
      ]
     },
     "execution_count": 227,
     "metadata": {},
     "output_type": "execute_result"
    }
   ],
   "source": [
    "data = np.load('data/siamese_data_cleaned.npy')\n",
    "data = torch.from_numpy(data)\n",
    "\n",
    "dataset = TensorDataset(data)\n",
    "\n",
    "SUBSELECT_TO_DEBUG = 1000\n",
    "batch_size = 4096\n",
    "\n",
    "indices = np.arange(len(data))[:SUBSELECT_TO_DEBUG]\n",
    "np.random.shuffle(indices)\n",
    "\n",
    "train_indices = indices[:int(0.8*len(indices))]\n",
    "val_indices = indices[int(0.8*len(indices)):int(0.85*len(indices))]\n",
    "test_indices = indices[int(0.85*len(indices)):]\n",
    "\n",
    "dataset_train = Subset(dataset, train_indices)\n",
    "dataset_val = Subset(dataset, val_indices)\n",
    "dataset_test = Subset(dataset, test_indices)\n",
    "\n",
    "dataloader_train = DataLoader(dataset_train, batch_size=batch_size, shuffle=True, collate_fn=collate_fn)\n",
    "dataloader_val = DataLoader(dataset_val, batch_size=batch_size, shuffle=True, collate_fn=collate_fn)\n",
    "dataloader_test = DataLoader(dataset_test, batch_size=batch_size, shuffle=True, collate_fn=collate_fn)\n",
    "\n",
    "len(dataset_train), len(dataset_val), len(dataset_test)"
   ]
  },
  {
   "cell_type": "code",
   "execution_count": 228,
   "metadata": {},
   "outputs": [
    {
     "name": "stdout",
     "output_type": "stream",
     "text": [
      "Using device cuda\n",
      "Number of params: 1561333\n"
     ]
    },
    {
     "data": {
      "text/plain": [
       "array([0.48875])"
      ]
     },
     "execution_count": 228,
     "metadata": {},
     "output_type": "execute_result"
    }
   ],
   "source": [
    "EPOCHS = 100\n",
    "losses = []\n",
    "train_accuracies = []\n",
    "val_accuracies = []\n",
    "\n",
    "device = torch.device('cuda' if torch.cuda.is_available() else 'cpu')\n",
    "print(f\"Using device {device}\")\n",
    "net = SiameseNetworkConv()\n",
    "net.to(device)\n",
    "optimizer = torch.optim.Adam(net.parameters(), lr=0.0001)\n",
    "criterion = nn.BCELoss()\n",
    "# number of params\n",
    "print(\"Number of params:\", sum(p.numel() for p in net.parameters() if p.requires_grad))\n",
    "initial_train_accuracy = validate(net, dataloader_train, device)\n",
    "initial_train_accuracy"
   ]
  },
  {
   "cell_type": "code",
   "execution_count": 243,
   "metadata": {},
   "outputs": [
    {
     "name": "stdout",
     "output_type": "stream",
     "text": [
      "Epoch 0, loss: 0.29327115416526794, train accuracy: [0.8875], val accuracy: [0.58]\n",
      "Epoch 50, loss: 0.26142022013664246, train accuracy: [0.9], val accuracy: [0.52]\n",
      "Epoch 100, loss: 0.270355224609375, train accuracy: [0.88625], val accuracy: [0.46]\n",
      "Epoch 150, loss: 0.27338260412216187, train accuracy: [0.8875], val accuracy: [0.46]\n",
      "Epoch 200, loss: 0.24251176416873932, train accuracy: [0.90125], val accuracy: [0.6]\n",
      "Epoch 250, loss: 0.2538853883743286, train accuracy: [0.89875], val accuracy: [0.42]\n",
      "Epoch 300, loss: 0.27622395753860474, train accuracy: [0.88], val accuracy: [0.68]\n",
      "Epoch 350, loss: 0.26879820227622986, train accuracy: [0.8925], val accuracy: [0.62]\n",
      "Epoch 400, loss: 0.26942726969718933, train accuracy: [0.87875], val accuracy: [0.48]\n",
      "Epoch 450, loss: 0.28986090421676636, train accuracy: [0.87375], val accuracy: [0.5]\n",
      "Epoch 500, loss: 0.27953872084617615, train accuracy: [0.8875], val accuracy: [0.46]\n",
      "Epoch 550, loss: 0.26273345947265625, train accuracy: [0.8925], val accuracy: [0.6]\n",
      "Epoch 600, loss: 0.3005601167678833, train accuracy: [0.87875], val accuracy: [0.54]\n",
      "Epoch 650, loss: 0.22940276563167572, train accuracy: [0.9075], val accuracy: [0.5]\n",
      "Epoch 700, loss: 0.2499862164258957, train accuracy: [0.89625], val accuracy: [0.56]\n",
      "Epoch 750, loss: 0.22663170099258423, train accuracy: [0.91125], val accuracy: [0.56]\n",
      "Epoch 800, loss: 0.2306203842163086, train accuracy: [0.90625], val accuracy: [0.54]\n",
      "Epoch 850, loss: 0.23527701199054718, train accuracy: [0.91125], val accuracy: [0.54]\n",
      "Epoch 900, loss: 0.2540123760700226, train accuracy: [0.89875], val accuracy: [0.48]\n",
      "Epoch 950, loss: 0.23480498790740967, train accuracy: [0.8975], val accuracy: [0.52]\n"
     ]
    }
   ],
   "source": [
    "for i in range(20):\n",
    "    for epoch in range(EPOCHS):\n",
    "        loss, train_accuracy = train_one_epoch(net, dataloader_train, optimizer, criterion, device)\n",
    "        val_accuracy = validate(net, dataloader_val, device)\n",
    "        train_accuracies.append(train_accuracy)\n",
    "        val_accuracies.append(val_accuracy)\n",
    "        losses.append(loss)\n",
    "        if epoch % 50 == 0:\n",
    "            print(f\"Epoch {epoch+EPOCHS*i}, loss: {loss}, train accuracy: {train_accuracy}, val accuracy: {val_accuracy}\")\n",
    "\n",
    "plt.plot(losses, label='loss')\n",
    "plt.title('Loss')\n",
    "plt.show()\n",
    "plt.plot(val_accuracies, label='val accuracy')\n",
    "plt.plot(train_accuracies, label='train accuracy')\n",
    "plt.title(\"Accuracy\")\n",
    "plt.legend()\n",
    "plt.show()"
   ]
  },
  {
   "cell_type": "code",
   "execution_count": null,
   "metadata": {},
   "outputs": [],
   "source": []
  }
 ],
 "metadata": {
  "kernelspec": {
   "display_name": "Python 3",
   "language": "python",
   "name": "python3"
  },
  "language_info": {
   "codemirror_mode": {
    "name": "ipython",
    "version": 3
   },
   "file_extension": ".py",
   "mimetype": "text/x-python",
   "name": "python",
   "nbconvert_exporter": "python",
   "pygments_lexer": "ipython3",
   "version": "3.9.19"
  }
 },
 "nbformat": 4,
 "nbformat_minor": 2
}
