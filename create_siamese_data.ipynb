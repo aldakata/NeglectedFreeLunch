{
 "cells": [
  {
   "cell_type": "code",
   "execution_count": 90,
   "metadata": {},
   "outputs": [],
   "source": [
    "import numpy as np"
   ]
  },
  {
   "cell_type": "markdown",
   "metadata": {},
   "source": [
    "## Load the data"
   ]
  },
  {
   "cell_type": "code",
   "execution_count": 156,
   "metadata": {},
   "outputs": [],
   "source": [
    "subset = np.logical_not(np.load(\"data/missing_file_names_mask.npy\"))\n",
    "sample_hardness = np.load('data/resnet50_losses_final_weights.npy')[subset]\n",
    "mouse_records  = np.load('data/mouse_record_interpolated.npy')\n",
    "\n",
    "estimate_times=np.load('data/sample_estimate_times.npy')[subset]\n",
    "worker_ids=np.load('data/sample_worker_ids.npy')[subset]\n",
    "clean_subset = estimate_times < 3000\n",
    "clean_subset = np.logical_and(clean_subset, estimate_times > 0)\n",
    "\n",
    "sample_hardness = sample_hardness[clean_subset]\n",
    "mouse_records = mouse_records[clean_subset]\n",
    "estimate_times = estimate_times[clean_subset]\n",
    "worker_ids = worker_ids[clean_subset]"
   ]
  },
  {
   "cell_type": "code",
   "execution_count": 125,
   "metadata": {},
   "outputs": [
    {
     "data": {
      "text/plain": [
       "809947"
      ]
     },
     "execution_count": 125,
     "metadata": {},
     "output_type": "execute_result"
    }
   ],
   "source": [
    "not_zero = []\n",
    "for i, el in enumerate(mouse_records):\n",
    "    # print(el.shape, np.allclose(el, np.zeros_like(el)), el)\n",
    "    if not np.allclose(el, np.zeros_like(el)):\n",
    "        not_zero.append(i)\n",
    "len(not_zero), len(mouse_records)"
   ]
  },
  {
   "cell_type": "code",
   "execution_count": 157,
   "metadata": {},
   "outputs": [],
   "source": [
    "mouse_records = mouse_records[not_zero]\n",
    "sample_hardness = sample_hardness[not_zero]\n",
    "estimate_times  = estimate_times[not_zero]\n",
    "worker_ids  = worker_ids[not_zero]\n",
    "worker_ids_int = np.zeros_like(worker_ids, dtype = np.float32)"
   ]
  },
  {
   "cell_type": "code",
   "execution_count": 171,
   "metadata": {},
   "outputs": [],
   "source": [
    "for i, w in enumerate(np.unique(worker_ids)):\n",
    "    worker_ids_int[np.where(worker_ids == w)] = i\n"
   ]
  },
  {
   "cell_type": "code",
   "execution_count": 172,
   "metadata": {},
   "outputs": [
    {
     "data": {
      "text/plain": [
       "array([619., 842., 923., ..., 213., 188., 231.], dtype=float32)"
      ]
     },
     "execution_count": 172,
     "metadata": {},
     "output_type": "execute_result"
    }
   ],
   "source": [
    "worker_ids_int"
   ]
  },
  {
   "cell_type": "markdown",
   "metadata": {},
   "source": [
    "## Compute some pairings\n",
    "The stored data will be (mouse_record_0, mouse_record_1, target, sample_hardness_0, sample_hardness_1, estimate_time_0, estimate_time_1, worker_id_0, worker_id_1, sample_1_position_in_the_grid, sample_1_position_in_the_grid)\n",
    "sample_1_position_in_the_grid:{0:left,1:center,2:right}"
   ]
  },
  {
   "cell_type": "code",
   "execution_count": 177,
   "metadata": {},
   "outputs": [],
   "source": [
    "NUM_SAMPLES = 2000000"
   ]
  },
  {
   "cell_type": "code",
   "execution_count": 182,
   "metadata": {},
   "outputs": [],
   "source": [
    "idx0 = np.random.choice(len(sample_hardness), NUM_SAMPLES)\n",
    "idx1 = np.random.choice(len(sample_hardness), NUM_SAMPLES)\n",
    "invalid = idx0 == idx1\n",
    "idx0 = idx0[~invalid]\n",
    "idx1 = idx1[~invalid]"
   ]
  },
  {
   "cell_type": "code",
   "execution_count": 192,
   "metadata": {},
   "outputs": [],
   "source": [
    "# sh0 + margin < sh1 -> target = 1\n",
    "# sh1 + margin < sh0 -> target = 0\n",
    "margin = 1\n",
    "lower0 = sample_hardness[idx0] < sample_hardness[idx1]\n",
    "over_margin_0 = sample_hardness[idx0] + margin < sample_hardness[idx1]\n",
    "discard0 = np.logical_and(lower0, ~over_margin_0)\n",
    "lower1 = sample_hardness[idx1] < sample_hardness[idx0]\n",
    "over_margin_1 = sample_hardness[idx1] + margin < sample_hardness[idx0]\n",
    "discard1 = np.logical_and(lower1, ~over_margin_1)\n",
    "to_discard = np.logical_or(discard0, discard1)\n",
    "\n",
    "idx0 = idx0[~to_discard]\n",
    "idx1 = idx1[~to_discard]"
   ]
  },
  {
   "cell_type": "code",
   "execution_count": 191,
   "metadata": {},
   "outputs": [
    {
     "name": "stdout",
     "output_type": "stream",
     "text": [
      "(881686, 127)\n"
     ]
    }
   ],
   "source": [
    "data = np.zeros((len(idx0), mouse_records.shape[1]*mouse_records.shape[2]+mouse_records.shape[1]*mouse_records.shape[2]+7))\n",
    "print(data.shape)\n",
    "target = (sample_hardness[idx0]<sample_hardness[idx1])*1.\n",
    "\n",
    "data[:, :30]=mouse_records[idx0][:, :, 0] # x-axis\n",
    "data[:, 30:60]=mouse_records[idx0][:, :, 1] # y-axis\n",
    "data[:, 60:90]=mouse_records[idx1][:, :, 0] # x-axis\n",
    "data[:, 90:120]=mouse_records[idx1][:, :, 1] # x-axis\n",
    "data[:, 120]=target\n",
    "data[:, 121]=sample_hardness[idx0] # hardness\n",
    "data[:, 122]=sample_hardness[idx1] # hardness\n",
    "data[:, 123]=estimate_times[idx0] # estimate time\n",
    "data[:, 124]=estimate_times[idx1] # estimate time\n",
    "data[:, 125]=worker_ids_int[idx0] # worker id\n",
    "data[:, 126]=worker_ids_int[idx1] # worker id\n",
    "# data[:, 127]=position[idx0] # position\n",
    "# data[:, 128]=position[idx1] # position\n"
   ]
  },
  {
   "cell_type": "code",
   "execution_count": 194,
   "metadata": {},
   "outputs": [],
   "source": [
    "np.save('data/siamese_data_cleaned.npy', data)"
   ]
  },
  {
   "cell_type": "code",
   "execution_count": null,
   "metadata": {},
   "outputs": [],
   "source": []
  }
 ],
 "metadata": {
  "kernelspec": {
   "display_name": "Python 3",
   "language": "python",
   "name": "python3"
  },
  "language_info": {
   "codemirror_mode": {
    "name": "ipython",
    "version": 3
   },
   "file_extension": ".py",
   "mimetype": "text/x-python",
   "name": "python",
   "nbconvert_exporter": "python",
   "pygments_lexer": "ipython3",
   "version": "3.9.19"
  }
 },
 "nbformat": 4,
 "nbformat_minor": 2
}
