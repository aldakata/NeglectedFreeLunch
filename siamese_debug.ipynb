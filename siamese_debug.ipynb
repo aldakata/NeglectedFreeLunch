{
 "cells": [
  {
   "cell_type": "code",
   "execution_count": 3,
   "metadata": {},
   "outputs": [],
   "source": [
    "from siamese_dataloader import Siamese_dataset, Siamese_dataloader"
   ]
  },
  {
   "cell_type": "code",
   "execution_count": null,
   "metadata": {},
   "outputs": [
    {
     "ename": "",
     "evalue": "",
     "output_type": "error",
     "traceback": [
      "\u001b[1;31mFailed to start the Kernel. \n",
      "\u001b[1;31mUnable to start Kernel 'ffcv (Python 3.9.18)' due to a connection timeout. \n",
      "\u001b[1;31mView Jupyter <a href='command:jupyter.viewOutput'>log</a> for further details."
     ]
    }
   ],
   "source": [
    "root=\"/mnt/qb/work/oh/owl156/train_xml\"\n",
    "loss_path=\"/mnt/qb/work/oh/owl156/NeglectedFreeLunch/data/losses_86.npy\"\n",
    "dataset = Siamese_dataset(\n",
    "    root=root,\n",
    "    loss_path=loss_path\n",
    ")\n",
    "dataloader = Siamese_dataloader(\n",
    "    root = root,\n",
    "    loss_path=loss_path\n",
    ")"
   ]
  },
  {
   "cell_type": "code",
   "execution_count": null,
   "metadata": {},
   "outputs": [],
   "source": []
  }
 ],
 "metadata": {
  "kernelspec": {
   "display_name": "ffcv",
   "language": "python",
   "name": "python3"
  },
  "language_info": {
   "codemirror_mode": {
    "name": "ipython",
    "version": 3
   },
   "file_extension": ".py",
   "mimetype": "text/x-python",
   "name": "python",
   "nbconvert_exporter": "python",
   "pygments_lexer": "ipython3",
   "version": "3.9.18"
  }
 },
 "nbformat": 4,
 "nbformat_minor": 2
}
